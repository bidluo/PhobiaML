{
  "nbformat": 4,
  "nbformat_minor": 0,
  "metadata": {
    "colab": {
      "name": "Phobia",
      "provenance": [],
      "collapsed_sections": [],
      "machine_shape": "hm"
    },
    "kernelspec": {
      "name": "python3",
      "display_name": "Python 3"
    },
    "accelerator": "GPU"
  },
  "cells": [
    {
      "cell_type": "code",
      "metadata": {
        "colab_type": "code",
        "id": "m_z5aWf2cRYz",
        "cellView": "both",
        "colab": {}
      },
      "source": [
        "!echo '{\"username\":\"<name>\",\"key\":\"<key>\"}' > /root/.kaggle/kaggle.json\n",
        "!chmod 600 /root/.kaggle/kaggle.json\n",
        "!kaggle datasets download -d bidluo/phobiav1\n",
        "!unzip /content/phobiav1.zip -d data_dir\n",
        "!rm /content/phobiav1.zip"
      ],
      "execution_count": 0,
      "outputs": []
    },
    {
      "cell_type": "code",
      "metadata": {
        "id": "KuM83Wh4vp4A",
        "colab_type": "code",
        "outputId": "2160b662-d867-4caa-ca04-9fb92ec20512",
        "colab": {
          "base_uri": "https://localhost:8080/",
          "height": 114
        }
      },
      "source": [
        "from keras.preprocessing.image import ImageDataGenerator\n",
        "\n",
        "BATCH_SIZE = 128\n",
        "\n",
        "IMG_HEIGHT = 150\n",
        "IMG_WIDTH = 150\n",
        "\n",
        "data_dir = \"/content/data_dir/data_dir\"\n",
        "\n",
        "train_image_generator = ImageDataGenerator(                                                                                                \n",
        "    rescale=1./255,                                                                                                                        \n",
        "    rotation_range=45,                                                                                                                     \n",
        "    width_shift_range=.15,                                                                                                                 \n",
        "    height_shift_range=.15,                                                                                                                \n",
        "    horizontal_flip=True,                                                                                                                  \n",
        "    zoom_range=0.5,\n",
        "    validation_split=0.2                                                                                                               \n",
        ")                                                               \n",
        "\n",
        "train_data_gen = train_image_generator.flow_from_directory(batch_size=BATCH_SIZE,\n",
        "                                                           directory=data_dir,\n",
        "                                                           shuffle=True,\n",
        "                                                           target_size=(IMG_HEIGHT, IMG_WIDTH),\n",
        "                                                           class_mode='binary',\n",
        "                                                           subset=\"training\")\n",
        "\n",
        "\n",
        "val_data_gen = train_image_generator.flow_from_directory(batch_size=BATCH_SIZE,\n",
        "                                                           directory=data_dir,\n",
        "                                                           shuffle=True,\n",
        "                                                           target_size=(IMG_HEIGHT, IMG_WIDTH),\n",
        "                                                           class_mode='binary',\n",
        "                                                            subset=\"validation\")\n"
      ],
      "execution_count": 0,
      "outputs": [
        {
          "output_type": "stream",
          "text": [
            "Using TensorFlow backend.\n"
          ],
          "name": "stderr"
        },
        {
          "output_type": "display_data",
          "data": {
            "text/html": [
              "<p style=\"color: red;\">\n",
              "The default version of TensorFlow in Colab will soon switch to TensorFlow 2.x.<br>\n",
              "We recommend you <a href=\"https://www.tensorflow.org/guide/migrate\" target=\"_blank\">upgrade</a> now \n",
              "or ensure your notebook will continue to use TensorFlow 1.x via the <code>%tensorflow_version 1.x</code> magic:\n",
              "<a href=\"https://colab.research.google.com/notebooks/tensorflow_version.ipynb\" target=\"_blank\">more info</a>.</p>\n"
            ],
            "text/plain": [
              "<IPython.core.display.HTML object>"
            ]
          },
          "metadata": {
            "tags": []
          }
        },
        {
          "output_type": "stream",
          "text": [
            "Found 34150 images belonging to 3 classes.\n",
            "Found 8537 images belonging to 3 classes.\n"
          ],
          "name": "stdout"
        }
      ]
    },
    {
      "cell_type": "code",
      "metadata": {
        "id": "nXtxHU5jnkDV",
        "colab_type": "code",
        "outputId": "072cd7c8-72d4-4ca7-b43a-8d173fb7b3aa",
        "colab": {
          "base_uri": "https://localhost:8080/",
          "height": 51
        }
      },
      "source": [
        "from tensorflow.keras.models import Sequential                                                                                         \n",
        "from tensorflow.keras.layers import Dense, Conv2D, Flatten, Dropout, MaxPooling2D \n",
        "from tensorflow.keras.optimizers import RMSprop\n",
        "\n",
        "EPOCHS = 15\n",
        "IMG_HEIGHT = 150\n",
        "IMG_WIDTH = 150\n",
        "\n",
        "model = Sequential([                                                                                                                   \n",
        "    Conv2D(16, 3, padding='same', activation='relu', input_shape=(IMG_HEIGHT, IMG_WIDTH, 3)),                                          \n",
        "    MaxPooling2D(),                                                                                                                    \n",
        "    Dropout(0.2),                                                                                                                      \n",
        "    Conv2D(32, 3, padding='same', activation='relu'),                                                                                  \n",
        "    MaxPooling2D(),                                                                                                                    \n",
        "    Conv2D(64, 3, padding='same', activation='relu'),                                                                                  \n",
        "    MaxPooling2D(),                                                                                                                    \n",
        "    Dropout(0.2),                                                                                                                      \n",
        "    Flatten(),                                                                                                                         \n",
        "    Dense(512, activation='relu'),                                                                                                     \n",
        "    Dense(1, activation='sigmoid')                                                                                                     \n",
        "])\n",
        "\n",
        "model.compile(loss='sparse_categorical_crossentropy',\n",
        "              optimizer=RMSprop(learning_rate=1e-4),\n",
        "              metrics=['sparse_categorical_accuracy'])\n",
        "\n",
        "history = model.fit_generator(train_data_gen,\n",
        "                              steps_per_epoch = train_data_gen.samples // BATCH_SIZE,\n",
        "                              epochs = EPOCHS,\n",
        "                              validation_data = val_data_gen,\n",
        "                              validation_steps = val_data_gen.samples // BATCH_SIZE)"
      ],
      "execution_count": 0,
      "outputs": [
        {
          "output_type": "stream",
          "text": [
            "Epoch 1/15\n",
            "106/266 [==========>...................] - ETA: 3:49 - loss: nan - sparse_categorical_accuracy: 0.2927"
          ],
          "name": "stdout"
        }
      ]
    },
    {
      "cell_type": "code",
      "metadata": {
        "id": "HbbzGXns4xXh",
        "colab_type": "code",
        "colab": {}
      },
      "source": [
        "from google.colab import drive\n",
        "drive.mount('/content/drive')"
      ],
      "execution_count": 0,
      "outputs": []
    },
    {
      "cell_type": "code",
      "metadata": {
        "id": "l01IzPVyXpO9",
        "colab_type": "code",
        "colab": {}
      },
      "source": [
        "model.save_weights('/content/drive/My Drive/untitled folder/model_weights.h5')\n",
        "model.save('/content/drive/My Drive/untitled folder/model_keras.h5')"
      ],
      "execution_count": 0,
      "outputs": []
    },
    {
      "cell_type": "code",
      "metadata": {
        "id": "GNZtbTfR4aei",
        "colab_type": "code",
        "colab": {}
      },
      "source": [
        ""
      ],
      "execution_count": 0,
      "outputs": []
    },
    {
      "cell_type": "code",
      "metadata": {
        "id": "-A-yvYOIZC4l",
        "colab_type": "code",
        "outputId": "9014b2fb-8d08-447e-9c1e-74a3000e0b76",
        "colab": {
          "base_uri": "https://localhost:8080/",
          "height": 553
        }
      },
      "source": [
        "import matplotlib.pyplot as plt\n",
        "\n",
        "print(history.history)\n",
        "acc = history.history['sparse_categorical_accuracy']                                                                                                          \n",
        "val_acc = history.history['val_sparse_categorical_accuracy']                                                                                                  \n",
        "                                                                                                                                           \n",
        "loss = history.history['loss']                                                                                                             \n",
        "val_loss = history.history['val_loss']                                                                                                     \n",
        "                                                                                                                                           \n",
        "epochs_range = range(EPOCHS)                                                                                                               \n",
        "                                                                                                                                           \n",
        "plt.figure(figsize=(8, 8))                                                                                                                 \n",
        "plt.subplot(1, 2, 1)                                                                                                                       \n",
        "plt.plot(epochs_range, acc, label='Training Accuracy')                                                                                     \n",
        "plt.plot(epochs_range, val_acc, label='Validation Accuracy')                                                                               \n",
        "plt.legend(loc='lower right')                                                                                                              \n",
        "plt.title('Training and Validation Accuracy')                                                                                              \n",
        "                                                                                                                                           \n",
        "plt.subplot(1, 2, 2)                                                                                                                       \n",
        "plt.plot(epochs_range, loss, label='Training Loss')                                                                                        \n",
        "plt.plot(epochs_range, val_loss, label='Validation Loss')                                                                                  \n",
        "plt.legend(loc='upper right')                                                                                                              \n",
        "plt.title('Training and Validation Loss')  "
      ],
      "execution_count": 0,
      "outputs": [
        {
          "output_type": "stream",
          "text": [
            "{'loss': [0.8801753606425413, 0.7086434561132257, 0.6539656723115356, 0.6123604902962684, 0.5888374098261496, 0.5506321792182312, 0.5405957221207001, 0.5254654333246819, 0.5016283064486734, 0.5010084972538006, 0.48843814032389354, 0.4810453856543576, 0.46511428425617724, 0.45442543722819234, 0.44692745682325785], 'sparse_categorical_accuracy': [0.56310624, 0.66621596, 0.700047, 0.72353184, 0.735961, 0.7589128, 0.7644172, 0.76809126, 0.7823761, 0.7820822, 0.7893716, 0.7909, 0.80162835, 0.80339193, 0.80730116], 'val_loss': [0.774605575836066, 0.7237157433321981, 0.6356006138252489, 0.6147793666882948, 0.5617757398973812, 0.5763098593011047, 0.5683472431970366, 0.5836431122187412, 0.497483719478954, 0.5032203071045153, 0.48382478500857495, 0.48350492029479053, 0.48459547667792346, 0.46390135179866443, 0.4469432636643901], 'val_sparse_categorical_accuracy': [0.6317472, 0.65755206, 0.70951706, 0.72170925, 0.7501184, 0.745857, 0.75343275, 0.7464489, 0.78977275, 0.7882339, 0.79498106, 0.7887074, 0.7960464, 0.8066998, 0.81072444]}\n"
          ],
          "name": "stdout"
        },
        {
          "output_type": "execute_result",
          "data": {
            "text/plain": [
              "Text(0.5, 1.0, 'Training and Validation Loss')"
            ]
          },
          "metadata": {
            "tags": []
          },
          "execution_count": 11
        },
        {
          "output_type": "display_data",
          "data": {
            "image/png": "[encoded data removed]",
            "text/plain": [
              "<Figure size 576x576 with 2 Axes>"
            ]
          },
          "metadata": {
            "tags": []
          }
        }
      ]
    }
  ]
}